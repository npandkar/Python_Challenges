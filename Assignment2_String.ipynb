{
 "cells": [
  {
   "cell_type": "code",
   "execution_count": 24,
   "id": "96470936",
   "metadata": {},
   "outputs": [
    {
     "name": "stdout",
     "output_type": "stream",
     "text": [
      "Python is high level programming language\n"
     ]
    }
   ],
   "source": [
    "#1.Print a string that uses double quotation marks inside the string.\n",
    "str1=\"Python is high level programming language\"\n",
    "print(str1)"
   ]
  },
  {
   "cell_type": "code",
   "execution_count": 23,
   "id": "c4f22bc4",
   "metadata": {},
   "outputs": [
    {
     "name": "stdout",
     "output_type": "stream",
     "text": [
      "It's is easy to learn\n"
     ]
    }
   ],
   "source": [
    "#2.Print a string that uses an apostrophe inside the string.\n",
    "str2=\"It's is easy to learn\"\n",
    "print(str2)"
   ]
  },
  {
   "cell_type": "code",
   "execution_count": 27,
   "id": "b47cb9ac",
   "metadata": {},
   "outputs": [
    {
     "name": "stdout",
     "output_type": "stream",
     "text": [
      "Hello Python World \n",
      " Programming Language          Pythod Code\n"
     ]
    }
   ],
   "source": [
    "#3.Print a string that spans multiple lines with whitespace preserved.\n",
    "str3='''Hello Python World \\n Programming Language          Pythod Code'''\n",
    "print(str3)\n"
   ]
  },
  {
   "cell_type": "code",
   "execution_count": 62,
   "id": "fe24e447",
   "metadata": {},
   "outputs": [
    {
     "name": "stdout",
     "output_type": "stream",
     "text": [
      "python language python programming python learnings\n"
     ]
    }
   ],
   "source": [
    "#4.Print a string that is coded on multiple lines but gets printed on a single line.\n",
    "str4='''python language \\\n",
    "python programming \\\n",
    "python learnings'''\n",
    "print(str4)"
   ]
  },
  {
   "cell_type": "code",
   "execution_count": 5,
   "id": "13000bf8",
   "metadata": {},
   "outputs": [
    {
     "data": {
      "text/plain": [
       "'My favourite TV Series is \"Game of Thrones\"'"
      ]
     },
     "execution_count": 5,
     "metadata": {},
     "output_type": "execute_result"
    }
   ],
   "source": [
    "# 5. correct following python code\n",
    "#mystr = \"My favourite TV Series is \"Game of Thrones\"\"\n",
    "mystr=\"My favourite TV Series is \\\"Game of Thrones\\\"\"\n",
    "mystr"
   ]
  },
  {
   "cell_type": "code",
   "execution_count": null,
   "id": "430775f7",
   "metadata": {},
   "outputs": [],
   "source": []
  },
  {
   "cell_type": "code",
   "execution_count": null,
   "id": "032846a4",
   "metadata": {},
   "outputs": [],
   "source": []
  }
 ],
 "metadata": {
  "kernelspec": {
   "display_name": "Python 3 (ipykernel)",
   "language": "python",
   "name": "python3"
  },
  "language_info": {
   "codemirror_mode": {
    "name": "ipython",
    "version": 3
   },
   "file_extension": ".py",
   "mimetype": "text/x-python",
   "name": "python",
   "nbconvert_exporter": "python",
   "pygments_lexer": "ipython3",
   "version": "3.9.12"
  }
 },
 "nbformat": 4,
 "nbformat_minor": 5
}
