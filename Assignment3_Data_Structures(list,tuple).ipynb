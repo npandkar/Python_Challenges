{
 "cells": [
  {
   "cell_type": "code",
   "execution_count": 1,
   "id": "7202194f",
   "metadata": {},
   "outputs": [
    {
     "data": {
      "text/plain": [
       "('john', 'sia', 'ria')"
      ]
     },
     "execution_count": 1,
     "metadata": {},
     "output_type": "execute_result"
    }
   ],
   "source": [
    "# Exercise 1\n",
    "# Create a tuple of 3 names: \"john\", \"sia\" and \"ria\"\n",
    "\n",
    "tup1=(\"john\", \"sia\",\"ria\")\n",
    "tup1"
   ]
  },
  {
   "cell_type": "code",
   "execution_count": 2,
   "id": "6a3a28db",
   "metadata": {},
   "outputs": [
    {
     "data": {
      "text/plain": [
       "'sia'"
      ]
     },
     "execution_count": 2,
     "metadata": {},
     "output_type": "execute_result"
    }
   ],
   "source": [
    "# Exercise 2\n",
    "# Display the second object in the tuple\n",
    "tup1[1]"
   ]
  },
  {
   "cell_type": "code",
   "execution_count": 3,
   "id": "726af479",
   "metadata": {},
   "outputs": [
    {
     "data": {
      "text/plain": [
       "('n', 'i', 'l', 'a', 'm')"
      ]
     },
     "execution_count": 3,
     "metadata": {},
     "output_type": "execute_result"
    }
   ],
   "source": [
    "# Exercise 3\n",
    "# Create a tuple containing the letters of your name from a string\n",
    "my_name='nilam'\n",
    "tup2=('n','i','l','a','m')\n",
    "tup2"
   ]
  },
  {
   "cell_type": "code",
   "execution_count": 15,
   "id": "f4863a2d",
   "metadata": {},
   "outputs": [
    {
     "data": {
      "text/plain": [
       "['john', 'sia', 'ria']"
      ]
     },
     "execution_count": 15,
     "metadata": {},
     "output_type": "execute_result"
    }
   ],
   "source": [
    "# Exercise 4\n",
    "# Create a list of 3 names: \"john\", \"sia\" and \"ria\"\n",
    "name=[\"john\",\"sia\",\"ria\"]\n",
    "name"
   ]
  },
  {
   "cell_type": "code",
   "execution_count": 16,
   "id": "c188d540",
   "metadata": {},
   "outputs": [
    {
     "data": {
      "text/plain": [
       "['john', 'sia', 'ria', 'elena']"
      ]
     },
     "execution_count": 16,
     "metadata": {},
     "output_type": "execute_result"
    }
   ],
   "source": [
    "# Exercise 5\n",
    "# Append the string \"elena\" to the names list using .append()\n",
    "name.append(\"elena\")\n",
    "name"
   ]
  },
  {
   "cell_type": "code",
   "execution_count": 18,
   "id": "ea4358ba",
   "metadata": {},
   "outputs": [
    {
     "data": {
      "text/plain": [
       "'elena'"
      ]
     },
     "execution_count": 18,
     "metadata": {},
     "output_type": "execute_result"
    }
   ],
   "source": [
    "# Exercise 6\n",
    "# Print the last item in names list\n",
    "\n",
    "name[3]"
   ]
  },
  {
   "cell_type": "code",
   "execution_count": 21,
   "id": "5d913ab2",
   "metadata": {},
   "outputs": [
    {
     "data": {
      "text/plain": [
       "4"
      ]
     },
     "execution_count": 21,
     "metadata": {},
     "output_type": "execute_result"
    }
   ],
   "source": [
    "# Exercise 7\n",
    "# check 'john' name's length using len()\n",
    "len(\"john\")"
   ]
  },
  {
   "cell_type": "code",
   "execution_count": 4,
   "id": "ddbab6d1",
   "metadata": {},
   "outputs": [
    {
     "data": {
      "text/plain": [
       "{'  ': '  '}"
      ]
     },
     "execution_count": 4,
     "metadata": {},
     "output_type": "execute_result"
    }
   ],
   "source": [
    "# Exercise 8\n",
    "# Create an empty dictionary\n",
    "dict1={\"  \":\"  \"}\n",
    "dict1"
   ]
  },
  {
   "cell_type": "code",
   "execution_count": 8,
   "id": "8b752144",
   "metadata": {},
   "outputs": [
    {
     "data": {
      "text/plain": [
       "{'fruit': 'Apple', 'flower': 'Rose', 'sport': 'Cricket', 'city': 'Pune'}"
      ]
     },
     "execution_count": 8,
     "metadata": {},
     "output_type": "execute_result"
    }
   ],
   "source": [
    "# Exercise 9\n",
    "# Add some key-value pairs to the dictionary\n",
    "dict2={\"fruit\":\"Apple\",\"flower\":\"Rose\",\"sport\":\"Cricket\",\"city\":\"Pune\"}\n",
    "dict2"
   ]
  },
  {
   "cell_type": "code",
   "execution_count": null,
   "id": "b18ff577",
   "metadata": {},
   "outputs": [],
   "source": []
  },
  {
   "cell_type": "code",
   "execution_count": null,
   "id": "493e8f26",
   "metadata": {},
   "outputs": [],
   "source": []
  }
 ],
 "metadata": {
  "kernelspec": {
   "display_name": "Python 3 (ipykernel)",
   "language": "python",
   "name": "python3"
  },
  "language_info": {
   "codemirror_mode": {
    "name": "ipython",
    "version": 3
   },
   "file_extension": ".py",
   "mimetype": "text/x-python",
   "name": "python",
   "nbconvert_exporter": "python",
   "pygments_lexer": "ipython3",
   "version": "3.9.12"
  }
 },
 "nbformat": 4,
 "nbformat_minor": 5
}
