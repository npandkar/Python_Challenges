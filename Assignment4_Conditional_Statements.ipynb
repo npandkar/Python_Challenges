{
 "cells": [
  {
   "cell_type": "code",
   "execution_count": 12,
   "id": "763502d9",
   "metadata": {},
   "outputs": [
    {
     "name": "stdout",
     "output_type": "stream",
     "text": [
      "x is greater than y: False\n",
      "x is less than y: True\n",
      "x is greater than equal to y: False\n",
      "x is less than equal to y: True\n",
      "y is greater than x: True\n",
      "y is less than x: False\n",
      "y is greater than equal to x: True\n",
      "y is less than equal to x: False\n",
      "y is not equal to x: True\n",
      "x>y and x<y: False\n",
      "x>y or x<y: True\n"
     ]
    }
   ],
   "source": [
    "# Exercise 1\n",
    "# Use all the logical operators for x and y values and see if they are True or False\n",
    "x = 4\n",
    "y = 7\n",
    "print('x is greater than y:',x>y)\n",
    "print('x is less than y:',x<y)\n",
    "print('x is greater than equal to y:',x>=y)\n",
    "print('x is less than equal to y:',x<=y)\n",
    "print('y is greater than x:',y>x)\n",
    "print('y is less than x:',y<x)\n",
    "print('y is greater than equal to x:',y>=x)\n",
    "print('y is less than equal to x:',y<=x)\n",
    "print('y is not equal to x:',y!=x)\n",
    "print('x>y and x<y:',x>y and x<y)\n",
    "print('x>y or x<y:',x>y or x<y)"
   ]
  },
  {
   "cell_type": "code",
   "execution_count": 15,
   "id": "ef8606eb",
   "metadata": {},
   "outputs": [
    {
     "name": "stdout",
     "output_type": "stream",
     "text": [
      "True\n"
     ]
    }
   ],
   "source": [
    "# Exercise 2\n",
    "# Fill in the blank so that the following expression will be True\n",
    "#3 __ 4\n",
    "\n",
    "print(3<4)"
   ]
  },
  {
   "cell_type": "code",
   "execution_count": 17,
   "id": "b8a1eb3d",
   "metadata": {},
   "outputs": [
    {
     "name": "stdout",
     "output_type": "stream",
     "text": [
      "False\n",
      "True\n"
     ]
    }
   ],
   "source": [
    "# Exercise 3\n",
    "# Test whether this expression is True or False and correct it\n",
    "print('shweta' == 'swetha')\n",
    "print('shweta'=='shweta')"
   ]
  },
  {
   "cell_type": "code",
   "execution_count": 21,
   "id": "c7b49512",
   "metadata": {},
   "outputs": [
    {
     "name": "stdout",
     "output_type": "stream",
     "text": [
      "6\n",
      "length of x is greater than 5\n"
     ]
    }
   ],
   "source": [
    "# Exercise 4\n",
    "# Test whether the length of your input string is <, > or = 5 characters\n",
    "#Hint:  use if elif else conditions\n",
    "\n",
    "x='flower'\n",
    "print(len(x))\n",
    "if len(x)<5:\n",
    "    print('length of x is less than 5')\n",
    "elif len(x)>5:\n",
    "    print('length of x is greater than 5')\n",
    "else:\n",
    "    print('length of x is equal to  5')"
   ]
  },
  {
   "cell_type": "code",
   "execution_count": 49,
   "id": "964167c7",
   "metadata": {},
   "outputs": [
    {
     "name": "stdout",
     "output_type": "stream",
     "text": [
      "covaxin\n",
      "1\n",
      "partially vaccinated\n"
     ]
    }
   ],
   "source": [
    "# Exercise 5\n",
    "# 1. Check whether person is fully vaccinated or partially vanninated or not vaccinated \n",
    "# 1.1 Solve string mistakes:--> .| , | : | covaxine \n",
    "# 1.2 Add partially vaxinated conditions for all the vaxine types\n",
    "\n",
    "# input: vaccine name and num of doses\n",
    "vaccine=input()\n",
    "num_doses=int(input())\n",
    "\n",
    "# clean string using string manupulation\n",
    "vaccine = vaccine.replace(' ','') # replace extra spaces\n",
    "vaccine = vaccine.replace('co-vaxin', 'covaxin') # replace '-'  with nothing\n",
    "vaccine = vaccine.lower() # lower case all the characters in string\n",
    "\n",
    "\n",
    "if vaccine=='covishield' and num_doses==2:\n",
    "    print('fully  vaccinated')\n",
    "elif num_doses==1:\n",
    "    print('partially vaccinated')\n",
    "elif vaccine=='covaxin' and num_doses==2:\n",
    "    print('fully vaccinated')\n",
    "elif num_doses==1:\n",
    "    print('partially vaccinated')\n",
    "elif vaccine=='sputnik' and num_doses==1:\n",
    "    print('fully vaccinated')\n",
    "else:\n",
    "    print(\"Not fully vaccinated\")"
   ]
  },
  {
   "cell_type": "code",
   "execution_count": 25,
   "id": "957c27e5",
   "metadata": {},
   "outputs": [
    {
     "name": "stdout",
     "output_type": "stream",
     "text": [
      "a is not greater than 5\n"
     ]
    }
   ],
   "source": [
    "# Exercise 6\n",
    "# calculate the square of a number if it greater than 5\n",
    "\n",
    "a=4\n",
    "if a>5:\n",
    "    print('square of a=',a*a)\n",
    "else:\n",
    "    print('a is not greater than 5')"
   ]
  },
  {
   "cell_type": "code",
   "execution_count": null,
   "id": "20450bb0",
   "metadata": {},
   "outputs": [],
   "source": []
  },
  {
   "cell_type": "code",
   "execution_count": null,
   "id": "82001569",
   "metadata": {},
   "outputs": [],
   "source": []
  }
 ],
 "metadata": {
  "kernelspec": {
   "display_name": "Python 3 (ipykernel)",
   "language": "python",
   "name": "python3"
  },
  "language_info": {
   "codemirror_mode": {
    "name": "ipython",
    "version": 3
   },
   "file_extension": ".py",
   "mimetype": "text/x-python",
   "name": "python",
   "nbconvert_exporter": "python",
   "pygments_lexer": "ipython3",
   "version": "3.9.12"
  }
 },
 "nbformat": 4,
 "nbformat_minor": 5
}
