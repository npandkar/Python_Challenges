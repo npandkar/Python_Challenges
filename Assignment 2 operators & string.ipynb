{
 "cells": [
  {
   "cell_type": "code",
   "execution_count": 1,
   "id": "53b5a214",
   "metadata": {},
   "outputs": [
    {
     "data": {
      "text/plain": [
       "int"
      ]
     },
     "execution_count": 1,
     "metadata": {},
     "output_type": "execute_result"
    }
   ],
   "source": [
    "#1.print data type of variable X\n",
    "x=5\n",
    "type(x)"
   ]
  },
  {
   "cell_type": "code",
   "execution_count": 2,
   "id": "2a108647",
   "metadata": {},
   "outputs": [
    {
     "data": {
      "text/plain": [
       "str"
      ]
     },
     "execution_count": 2,
     "metadata": {},
     "output_type": "execute_result"
    }
   ],
   "source": [
    "#2.what will be datatype of following variable\n",
    "var = 'VisioNLP'\n",
    "type(var)"
   ]
  },
  {
   "cell_type": "code",
   "execution_count": 3,
   "id": "61fa53e9",
   "metadata": {},
   "outputs": [
    {
     "data": {
      "text/plain": [
       "10"
      ]
     },
     "execution_count": 3,
     "metadata": {},
     "output_type": "execute_result"
    }
   ],
   "source": [
    "#3. Insert the correct syntax to convert x into a int data type.\n",
    "#x = 10.44\n",
    "#___(x)\n",
    "x = 10.44\n",
    "int(x)\n"
   ]
  },
  {
   "cell_type": "code",
   "execution_count": 4,
   "id": "c589973e",
   "metadata": {},
   "outputs": [
    {
     "data": {
      "text/plain": [
       "'65'"
      ]
     },
     "execution_count": 4,
     "metadata": {},
     "output_type": "execute_result"
    }
   ],
   "source": [
    "#4. Convert x into string\n",
    "#x = 65\n",
    "\n",
    "x=65\n",
    "str(65)"
   ]
  },
  {
   "cell_type": "code",
   "execution_count": 6,
   "id": "59019995",
   "metadata": {},
   "outputs": [
    {
     "data": {
      "text/plain": [
       "50"
      ]
     },
     "execution_count": 6,
     "metadata": {},
     "output_type": "execute_result"
    }
   ],
   "source": [
    "#5.Multipy 10 with 5, and print the result.\n",
    "10*5                #method 1\n",
    "a,b=10,5            #method 2\n",
    "a*b"
   ]
  },
  {
   "cell_type": "code",
   "execution_count": 8,
   "id": "47f2f2ba",
   "metadata": {},
   "outputs": [
    {
     "name": "stdout",
     "output_type": "stream",
     "text": [
      "21\n"
     ]
    }
   ],
   "source": [
    "#6. Use assignment operator and Perform Multiplication x and y values and store it in x\n",
    "x=3\n",
    "y=7\n",
    "x*=y\n",
    "print(x)"
   ]
  },
  {
   "cell_type": "code",
   "execution_count": 35,
   "id": "ce994c44",
   "metadata": {},
   "outputs": [
    {
     "name": "stdout",
     "output_type": "stream",
     "text": [
      "9\n"
     ]
    }
   ],
   "source": [
    "#7. Correct the following statement\n",
    "#x=x+6=3\n",
    "x=3\n",
    "x+=6\n",
    "print(x)"
   ]
  },
  {
   "cell_type": "code",
   "execution_count": 9,
   "id": "f3e1b8b7",
   "metadata": {},
   "outputs": [
    {
     "data": {
      "text/plain": [
       "True"
      ]
     },
     "execution_count": 9,
     "metadata": {},
     "output_type": "execute_result"
    }
   ],
   "source": [
    "#8. Correct the following line\n",
    "#x = 9\n",
    "#y = 6\n",
    "#x => y\n",
    "\n",
    "x=9 \n",
    "y=6\n",
    "x>=y"
   ]
  },
  {
   "cell_type": "code",
   "execution_count": 28,
   "id": "bd0f6ca8",
   "metadata": {},
   "outputs": [
    {
     "name": "stdout",
     "output_type": "stream",
     "text": [
      "<class 'int'>\n",
      "<class 'float'>\n",
      "<class 'str'>\n"
     ]
    },
    {
     "data": {
      "text/plain": [
       "bool"
      ]
     },
     "execution_count": 28,
     "metadata": {},
     "output_type": "execute_result"
    }
   ],
   "source": [
    "#9. list out different data types\n",
    "#integer\n",
    "a,b,c=9,4.3,'cat'\n",
    "print(type(a))              #int\n",
    "print(type(b))              #float\n",
    "print(type(c))              #str\n",
    "type(True)                  #boolean\n",
    "type(False)\n"
   ]
  },
  {
   "cell_type": "code",
   "execution_count": 33,
   "id": "7b5490ad",
   "metadata": {},
   "outputs": [
    {
     "name": "stdout",
     "output_type": "stream",
     "text": [
      "addition of 2 numbers:- 7\n",
      "substraction of 2 numbers:- 1\n",
      "multiplication of 2 numbers:- 12\n",
      "division of 2 numbers:- 1.3333333333333333\n",
      "module of 2 numbers:- 1\n",
      "power:- 64\n"
     ]
    }
   ],
   "source": [
    "#10. Add and display/print few examples of your choice of arithmetic operatios\n",
    "\n",
    "m, n=4,3\n",
    "print('addition of 2 numbers:-',m+n)                 #addition of 2 numbers\n",
    "print('substraction of 2 numbers:-',m-n)             #substraction of 2 numbers\n",
    "print('multiplication of 2 numbers:-',m*n)           #multiplication of 2 numbers\n",
    "print('division of 2 numbers:-',m/n)                 #division of 2 numbers\n",
    "print('module of 2 numbers:-',m%n)                   #module of 2 numbers\n",
    "print('power:-',m**n)                                #power"
   ]
  },
  {
   "cell_type": "code",
   "execution_count": null,
   "id": "2df3226e",
   "metadata": {},
   "outputs": [],
   "source": []
  }
 ],
 "metadata": {
  "kernelspec": {
   "display_name": "Python 3 (ipykernel)",
   "language": "python",
   "name": "python3"
  },
  "language_info": {
   "codemirror_mode": {
    "name": "ipython",
    "version": 3
   },
   "file_extension": ".py",
   "mimetype": "text/x-python",
   "name": "python",
   "nbconvert_exporter": "python",
   "pygments_lexer": "ipython3",
   "version": "3.9.12"
  }
 },
 "nbformat": 4,
 "nbformat_minor": 5
}
