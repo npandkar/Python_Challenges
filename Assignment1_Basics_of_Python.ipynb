{
 "cells": [
  {
   "cell_type": "code",
   "execution_count": 33,
   "id": "69d4ffb0",
   "metadata": {},
   "outputs": [
    {
     "name": "stdout",
     "output_type": "stream",
     "text": [
      "Python is free & open source language \n",
      "\n",
      "this is high level programming\n",
      "\n",
      "It is easy to use & simple syntax\n",
      "\n",
      "python has 100s of libraries & frameworks which is a great addition to your development\n"
     ]
    }
   ],
   "source": [
    "#Python is popular in data Science\n",
    "print('''Python is free & open source language \\n\n",
    "this is high level programming\\n\n",
    "It is easy to use & simple syntax\\n\n",
    "python has 100s of libraries & frameworks which is a great addition to your development''')\n"
   ]
  },
  {
   "cell_type": "code",
   "execution_count": 31,
   "id": "38408636",
   "metadata": {},
   "outputs": [
    {
     "name": "stdout",
     "output_type": "stream",
     "text": [
      "Nilam\n"
     ]
    }
   ],
   "source": [
    "#print your name\n",
    "print('Nilam')"
   ]
  },
  {
   "cell_type": "code",
   "execution_count": 7,
   "id": "7c6da5e2",
   "metadata": {},
   "outputs": [
    {
     "name": "stdout",
     "output_type": "stream",
     "text": [
      "Nilam\n"
     ]
    }
   ],
   "source": [
    "my_name=\"Nilam\"\n",
    "print(my_name)"
   ]
  },
  {
   "cell_type": "code",
   "execution_count": 34,
   "id": "3fa7e00c",
   "metadata": {},
   "outputs": [
    {
     "name": "stdout",
     "output_type": "stream",
     "text": [
      "Hi\n"
     ]
    }
   ],
   "source": [
    "#correct the python line print(\"Hi)\n",
    "print(\"Hi\")"
   ]
  },
  {
   "cell_type": "code",
   "execution_count": 16,
   "id": "c5efd14c",
   "metadata": {},
   "outputs": [
    {
     "name": "stdout",
     "output_type": "stream",
     "text": [
      "Hi\n"
     ]
    },
    {
     "data": {
      "text/plain": [
       "10"
      ]
     },
     "execution_count": 16,
     "metadata": {},
     "output_type": "execute_result"
    }
   ],
   "source": [
    "print(\"Hi\")\n",
    "#this is comment \n",
    "#this is python language\n",
    "\n",
    "a=4\n",
    "b=6\n",
    "a+b"
   ]
  },
  {
   "cell_type": "code",
   "execution_count": 19,
   "id": "e7e9d74e",
   "metadata": {},
   "outputs": [
    {
     "name": "stdout",
     "output_type": "stream",
     "text": [
      "10\n"
     ]
    }
   ],
   "source": [
    "#2my-first_number=10\n",
    "#correct code\n",
    "my_first_number=10\n",
    "print(my_first_number)"
   ]
  },
  {
   "cell_type": "code",
   "execution_count": 21,
   "id": "57cf387b",
   "metadata": {},
   "outputs": [
    {
     "name": "stdout",
     "output_type": "stream",
     "text": [
      "Statistics\n"
     ]
    }
   ],
   "source": [
    "#create a new variable\n",
    "myvar=\"Statistics\"\n",
    "print(myvar)"
   ]
  },
  {
   "cell_type": "code",
   "execution_count": 23,
   "id": "ca8e53e4",
   "metadata": {},
   "outputs": [
    {
     "name": "stdout",
     "output_type": "stream",
     "text": [
      "17\n"
     ]
    },
    {
     "data": {
      "text/plain": [
       "int"
      ]
     },
     "execution_count": 23,
     "metadata": {},
     "output_type": "execute_result"
    }
   ],
   "source": [
    "#create a new variable name assign value 17\n",
    "my_number=17\n",
    "print(my_number)\n",
    "type(my_number)"
   ]
  },
  {
   "cell_type": "code",
   "execution_count": 29,
   "id": "1215878e",
   "metadata": {},
   "outputs": [
    {
     "name": "stdout",
     "output_type": "stream",
     "text": [
      "15\n",
      "15\n"
     ]
    },
    {
     "data": {
      "text/plain": [
       "int"
      ]
     },
     "execution_count": 29,
     "metadata": {},
     "output_type": "execute_result"
    }
   ],
   "source": [
    "#sum of two variable X&Y\n",
    "x,y=5,10\n",
    "print(x+y)\n",
    "\n",
    "\n",
    "#create varible Z\n",
    "a=5\n",
    "b=10\n",
    "z=a+b\n",
    "print(a+b)\n",
    "type(z)"
   ]
  },
  {
   "cell_type": "code",
   "execution_count": 30,
   "id": "243178d7",
   "metadata": {},
   "outputs": [
    {
     "name": "stdout",
     "output_type": "stream",
     "text": [
      "orange orange orange\n"
     ]
    }
   ],
   "source": [
    "#assign same value to a,b,c\n",
    "a=b=c=\"orange\"\n",
    "print(a,b,c)"
   ]
  },
  {
   "cell_type": "code",
   "execution_count": null,
   "id": "f81cc820",
   "metadata": {},
   "outputs": [],
   "source": []
  }
 ],
 "metadata": {
  "kernelspec": {
   "display_name": "Python 3 (ipykernel)",
   "language": "python",
   "name": "python3"
  },
  "language_info": {
   "codemirror_mode": {
    "name": "ipython",
    "version": 3
   },
   "file_extension": ".py",
   "mimetype": "text/x-python",
   "name": "python",
   "nbconvert_exporter": "python",
   "pygments_lexer": "ipython3",
   "version": "3.9.12"
  }
 },
 "nbformat": 4,
 "nbformat_minor": 5
}
